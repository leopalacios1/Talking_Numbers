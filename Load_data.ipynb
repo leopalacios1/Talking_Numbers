{
  "nbformat": 4,
  "nbformat_minor": 0,
  "metadata": {
    "colab": {
      "name": "Untitled3.ipynb",
      "provenance": [],
      "collapsed_sections": [],
      "authorship_tag": "ABX9TyPoKnTtzxLf73PkTxiOq36B",
      "include_colab_link": true
    },
    "kernelspec": {
      "name": "python3",
      "display_name": "Python 3"
    },
    "language_info": {
      "name": "python"
    }
  },
  "cells": [
    {
      "cell_type": "markdown",
      "metadata": {
        "id": "view-in-github",
        "colab_type": "text"
      },
      "source": [
        "<a href=\"https://colab.research.google.com/github/leopalacios1/Talking_Numbers/blob/main/Load_data.ipynb\" target=\"_parent\"><img src=\"https://colab.research.google.com/assets/colab-badge.svg\" alt=\"Open In Colab\"/></a>"
      ]
    },
    {
      "cell_type": "code",
      "metadata": {
        "colab": {
          "base_uri": "https://localhost:8080/"
        },
        "id": "gI3d_YlanalN",
        "outputId": "b118f1a5-8a36-4890-ec18-28a2a2be3435"
      },
      "source": [
        "!pip install spotipy\n",
        "\n",
        "import spotipy\n",
        "from spotipy.oauth2 import SpotifyClientCredentials\n",
        "import pandas as pd\n",
        "import time \n",
        "\n",
        "client_id = '9eb4c6ef069845e4bde31c6581daac26'\n",
        "client_secret  = '9995ec38d7294435acfb7c8fe81b99ec'\n",
        "\n",
        "client_credentials_manager = SpotifyClientCredentials(client_id, client_secret)\n",
        "sp = spotipy.Spotify(client_credentials_manager=client_credentials_manager)\n"
      ],
      "execution_count": null,
      "outputs": [
        {
          "output_type": "stream",
          "text": [
            "Requirement already satisfied: spotipy in /usr/local/lib/python3.7/dist-packages (2.17.1)\n",
            "Requirement already satisfied: six>=1.15.0 in /usr/local/lib/python3.7/dist-packages (from spotipy) (1.15.0)\n",
            "Requirement already satisfied: urllib3>=1.26.0 in /usr/local/lib/python3.7/dist-packages (from spotipy) (1.26.4)\n",
            "Requirement already satisfied: requests>=2.25.0 in /usr/local/lib/python3.7/dist-packages (from spotipy) (2.25.1)\n",
            "Requirement already satisfied: chardet<5,>=3.0.2 in /usr/local/lib/python3.7/dist-packages (from requests>=2.25.0->spotipy) (3.0.4)\n",
            "Requirement already satisfied: idna<3,>=2.5 in /usr/local/lib/python3.7/dist-packages (from requests>=2.25.0->spotipy) (2.10)\n",
            "Requirement already satisfied: certifi>=2017.4.17 in /usr/local/lib/python3.7/dist-packages (from requests>=2.25.0->spotipy) (2020.12.5)\n"
          ],
          "name": "stdout"
        }
      ]
    },
    {
      "cell_type": "code",
      "metadata": {
        "colab": {
          "base_uri": "https://localhost:8080/"
        },
        "id": "Q_937j1qn3kH",
        "outputId": "29672e0b-344f-41b6-d096-2bd51f2c4926"
      },
      "source": [
        "def getTrackIDs(user, playlist_id):\n",
        "    ids = []\n",
        "    playlist = sp.user_playlist(user, playlist_id)\n",
        "    for item in playlist['tracks']['items']:\n",
        "        track = item['track']\n",
        "        ids.append(track['id'])\n",
        "    return ids\n",
        "\n",
        "ids = getTrackIDs('1124570809', '4DKoYXYGhrLTMOqbbmg2MF')\n",
        "\n",
        "print(len(ids))\n",
        "print(ids)\n",
        "\n"
      ],
      "execution_count": null,
      "outputs": [
        {
          "output_type": "stream",
          "text": [
            "100\n",
            "['3XOKU8CKSiQsuQHD5vhzo5', '1Dg4dFJr3HW7sbA7vPejre', '66tkDkPsznE5zIHNt4QkXB', '1MVdxUH6E9kyu1a9tKS9H0', '0LMmCYr1grtBC0nRO2MxDf', '5fGWdNGGnvKrrHL6U7c1Vp', '2hdNya0b6Cc2YJ8IyaQIWp', '13UaD2u2oOLAXCijoEMnYe', '3oIofvdZAQnGsPaWUf1jki', '3DPFmwFtV5ElQaTniLOdgk', '2vupkXhwL4sNCRgNu72HCZ', '0t4z0WaQomQqPONghWn8c2', '4P8GPaFEPErZzpqCeReVnv', '2p6LQRALG9o3qKq8gOWX9f', '7pegxVesMmE2qK0o58xoFG', '6jvNnYLscndCf0fPJB1pms', '1BfR5GMOgW0peHkPxrwf11', '6YQjQdymVA9tvE0Ygnpsdd', '4H78HR8fBjJRWRueFVKo79', '2pC4xPFb3lMEB8RJRes87D', '66q3yNMEO2tOsiFny1IPQW', '3td69vL9Py7Ai9wfXYnvji', '5HXlNsuU61xdGKUuWl3MIX', '6vuPZX9fWESg5js2JFTQRJ', '2erQ477GekpdP5l3xp5adl', '3ETW8l9FuVFpPHUSTyZDK4', '1Tr4K5MU5XYE44umXGDndd', '1EiSEUs3FuRZDBU23MuUN3', '4IsHMzDbRE8q5Z4ALsQj3o', '5wQ4WwvlMMk0B7EKL5RBOM', '0RC23Ua9z3HUD9ssrX2VGj', '5chs9Tuzie40lvESN8EaCv', '2uG7RbrJSq5bZWv7ufDyTg', '260V7huyJrXnyYe0dFv2Fa', '4equkWkj4HbZD3OXHhpdnH', '61muv9lHtgN18qbm9oK9pH', '2gE95JskwQ1pCACTpGe1Db', '6WXWvuIVR2g3MklmHXXZp8', '14hnx0eLB1wvbi1c6zEE9D', '5jzma6gCzYtKB1DbEwFZKH', '6tpAsLYl8JREa9JeMFUTBV', '6BsXfQFdmLALoOkRTtgQUU', '5Cs03vgzmWuvz7wXkm4gJ9', '7KftgB87reqW6AvU1iAZDJ', '3msjDgdfwJ0Qcv2tXoisNN', '5sXk6DrIULH99SMmXxI7YZ', '0mRQp2HsSqX1MZuMvonAPN', '18VUNjOq2uRYxZP6nQGJva', '32BEasyNQgqXQJKoVa0fUw', '1f1yeiwuYTE8uUK3azgIX1', '0tZZaTsZ6w8glKpgWiChGn', '7xrC5Tcw7ZsR060M4KpwRw', '5rBS5AlKXpdb3tJJ2D8QdW', '6cgFCTrw2kWwZm7SF7r6Po', '1CLmFKW99S8eJrebO3GB04', '6Jp0GuFxAYbTdre1uUPgaB', '0ZwlxoHAnvkCRjsOrHAleU', '2qNTdYqknc5CDzDFWqYu3T', '7aOor99o8NNLZYElOXlBG1', '0Qmu2DYKupUetYUbxqvtw2', '0pNeVovbiZHkulpGeOx1Gj', '6gKtGkDTPjVMsWt02bGCHn', '1qtiESAzfGMw3YqJvI97ki', '1vQxicuNSODoBECPMFjHMG', '7nZ9CzhiFRPhOQCn7eDSnn', '51FFSo4IT0HXUaubZeTITf', '2EiIpFRf1VlKK4WLOkNfB0', '47GzY1mRitwIHIdlgeBu00', '25SQI7rcz4fcSJpQg5Ut8J', '1MmDfBzGsWKXb0rQfTyvOy', '5JgB38WStxku1uvo30tFsn', '43ouKEbDr397DJEd0Oe2ap', '7knc9CEqC5fcZOqQYCiBKj', '1kgws2l8gsvDhtsVyzWbu9', '0P2Dxoy0mdzM9NlFQoLZbc', '0Psz3az3RIYfJpnsajBT8N', '2oqgnxjyNYItifLYl9MzaW', '0FgNSsaSZTvbLXUumSO8LQ', '669jVNlVxPmrb2kN8YFq1u', '63hOJX2jdHeRRXQlCKh6gQ', '1swmf4hFMJYRNA8Rq9PVaW', '0nTW4n6goPkpnoaBBeSjXm', '0bkNJm3BcQyHpytMI7a3TX', '2La21GqU4fKTQLcfLxTeoz', '2s8ofs8CeRdQyHKk0ORnWD', '3nxaPqAOxUxkLhIhbvmv4t', '3c06k9x6MHHdPQi3ix68yF', '5i33z3NLHNGdRzbWgOIP1k', '0tTTsVcSCUV3VnZMKA1GUq', '6POxVhw9vbWKn4vXrLo3St', '4jXCF7cNyIKVr1717b3F2l', '59fvJNbJvUZ340IDUsFqxx', '6kqXaZrIDOmA177KL9LHHf', '1Avnd5xLg7HmaNofmYk7RQ', '0xRpjqtl3xQz56b41iytTp', '6EkWkW6fbaky8N5BVCGFFB', '0LkgmbjDxjiRUzr05UHYjN', '5kN6AirSbDRzfFQqCuo1kt', '1cZetVELSONBn0leqDj46m', '3KZzmW3VxB0MgQ8DpC92RY']\n"
          ],
          "name": "stdout"
        }
      ]
    },
    {
      "cell_type": "code",
      "metadata": {
        "id": "frjVpUp_pPeI"
      },
      "source": [
        "xdef getTrackFeatures(id):\n",
        "  meta = sp.track(id)\n",
        "  features = sp.audio_features(id)\n",
        "\n",
        "  # meta\n",
        "  name = meta['name']\n",
        "  album = meta['album']['name']\n",
        "  artist = meta['album']['artists'][0]['name']\n",
        "  release_date = meta['album']['release_date']\n",
        "  length = meta['duration_ms']\n",
        "  popularity = meta['popularity']\n",
        "\n",
        "  # features\n",
        "  acousticness = features[0]['acousticness']\n",
        "  danceability = features[0]['danceability']\n",
        "  energy = features[0]['energy']\n",
        "  instrumentalness = features[0]['instrumentalness']\n",
        "  liveness = features[0]['liveness']\n",
        "  loudness = features[0]['loudness']\n",
        "  speechiness = features[0]['speechiness']\n",
        "  tempo = features[0]['tempo']\n",
        "  time_signature = features[0]['time_signature']\n",
        "\n",
        "  track = [name, album, artist, release_date, length, popularity, danceability, acousticness, danceability, energy, instrumentalness, liveness, loudness, speechiness, tempo, time_signature]\n",
        "  return track\n",
        "\n",
        "  # loop over track ids \n",
        "tracks = []\n",
        "for i in range(len(ids)):\n",
        "  time.sleep(.5)\n",
        "  track = getTrackFeatures(ids[i])\n",
        "  tracks.append(track)\n",
        "\n",
        "# create dataset\n",
        "df = pd.DataFrame(tracks, columns = ['name', 'album', 'artist', 'release_date', 'length', 'popularity', 'danceability', 'acousticness', 'danceability', 'energy', 'instrumentalness', 'liveness', 'loudness', 'speechiness', 'tempo', 'time_signature'])\n",
        "df.to_csv(\"spotify.csv\", sep = ',')\n",
        "\n",
        "playlist1 = "
      ],
      "execution_count": null,
      "outputs": []
    },
    {
      "cell_type": "code",
      "metadata": {
        "colab": {
          "base_uri": "https://localhost:8080/",
          "height": 319
        },
        "id": "KslGunLapuiC",
        "outputId": "78a0d71a-8739-49c3-91f7-0de33c830912"
      },
      "source": [
        "df.shape\n",
        "df.head()\n"
      ],
      "execution_count": 16,
      "outputs": [
        {
          "output_type": "execute_result",
          "data": {
            "text/html": [
              "<div>\n",
              "<style scoped>\n",
              "    .dataframe tbody tr th:only-of-type {\n",
              "        vertical-align: middle;\n",
              "    }\n",
              "\n",
              "    .dataframe tbody tr th {\n",
              "        vertical-align: top;\n",
              "    }\n",
              "\n",
              "    .dataframe thead th {\n",
              "        text-align: right;\n",
              "    }\n",
              "</style>\n",
              "<table border=\"1\" class=\"dataframe\">\n",
              "  <thead>\n",
              "    <tr style=\"text-align: right;\">\n",
              "      <th></th>\n",
              "      <th>name</th>\n",
              "      <th>album</th>\n",
              "      <th>artist</th>\n",
              "      <th>release_date</th>\n",
              "      <th>length</th>\n",
              "      <th>popularity</th>\n",
              "      <th>danceability</th>\n",
              "      <th>acousticness</th>\n",
              "      <th>danceability</th>\n",
              "      <th>energy</th>\n",
              "      <th>instrumentalness</th>\n",
              "      <th>liveness</th>\n",
              "      <th>loudness</th>\n",
              "      <th>speechiness</th>\n",
              "      <th>tempo</th>\n",
              "      <th>time_signature</th>\n",
              "    </tr>\n",
              "  </thead>\n",
              "  <tbody>\n",
              "    <tr>\n",
              "      <th>0</th>\n",
              "      <td>She Works Out Too Much</td>\n",
              "      <td>Little Dark Age</td>\n",
              "      <td>MGMT</td>\n",
              "      <td>2018-02-09</td>\n",
              "      <td>278386</td>\n",
              "      <td>55</td>\n",
              "      <td>0.633</td>\n",
              "      <td>0.00596</td>\n",
              "      <td>0.633</td>\n",
              "      <td>0.919</td>\n",
              "      <td>0.273000</td>\n",
              "      <td>0.4300</td>\n",
              "      <td>-6.208</td>\n",
              "      <td>0.0343</td>\n",
              "      <td>147.970</td>\n",
              "      <td>4</td>\n",
              "    </tr>\n",
              "    <tr>\n",
              "      <th>1</th>\n",
              "      <td>Eight Days A Week - Remastered 2009</td>\n",
              "      <td>Beatles For Sale (Remastered)</td>\n",
              "      <td>The Beatles</td>\n",
              "      <td>1964-12-04</td>\n",
              "      <td>163600</td>\n",
              "      <td>65</td>\n",
              "      <td>0.652</td>\n",
              "      <td>0.41200</td>\n",
              "      <td>0.652</td>\n",
              "      <td>0.583</td>\n",
              "      <td>0.000000</td>\n",
              "      <td>0.1190</td>\n",
              "      <td>-7.811</td>\n",
              "      <td>0.0380</td>\n",
              "      <td>138.134</td>\n",
              "      <td>4</td>\n",
              "    </tr>\n",
              "    <tr>\n",
              "      <th>2</th>\n",
              "      <td>Tieduprightnow</td>\n",
              "      <td>Tieduprightnow</td>\n",
              "      <td>Parcels</td>\n",
              "      <td>2018-04-27</td>\n",
              "      <td>249956</td>\n",
              "      <td>69</td>\n",
              "      <td>0.863</td>\n",
              "      <td>0.29100</td>\n",
              "      <td>0.863</td>\n",
              "      <td>0.533</td>\n",
              "      <td>0.001260</td>\n",
              "      <td>0.0794</td>\n",
              "      <td>-7.986</td>\n",
              "      <td>0.0484</td>\n",
              "      <td>102.025</td>\n",
              "      <td>4</td>\n",
              "    </tr>\n",
              "    <tr>\n",
              "      <th>3</th>\n",
              "      <td>Comanchero</td>\n",
              "      <td>ITALO Dance Hits</td>\n",
              "      <td>Various Artists</td>\n",
              "      <td>1984</td>\n",
              "      <td>237773</td>\n",
              "      <td>30</td>\n",
              "      <td>0.606</td>\n",
              "      <td>0.59500</td>\n",
              "      <td>0.606</td>\n",
              "      <td>0.752</td>\n",
              "      <td>0.000035</td>\n",
              "      <td>0.0465</td>\n",
              "      <td>-7.360</td>\n",
              "      <td>0.0751</td>\n",
              "      <td>192.624</td>\n",
              "      <td>4</td>\n",
              "    </tr>\n",
              "    <tr>\n",
              "      <th>4</th>\n",
              "      <td>Born Under Punches (The Heat Goes On)</td>\n",
              "      <td>Remain in Light</td>\n",
              "      <td>Talking Heads</td>\n",
              "      <td>1980-10-08</td>\n",
              "      <td>348973</td>\n",
              "      <td>36</td>\n",
              "      <td>0.731</td>\n",
              "      <td>0.31200</td>\n",
              "      <td>0.731</td>\n",
              "      <td>0.709</td>\n",
              "      <td>0.226000</td>\n",
              "      <td>0.1190</td>\n",
              "      <td>-13.613</td>\n",
              "      <td>0.0640</td>\n",
              "      <td>112.426</td>\n",
              "      <td>4</td>\n",
              "    </tr>\n",
              "  </tbody>\n",
              "</table>\n",
              "</div>"
            ],
            "text/plain": [
              "                                    name  ... time_signature\n",
              "0                 She Works Out Too Much  ...              4\n",
              "1    Eight Days A Week - Remastered 2009  ...              4\n",
              "2                         Tieduprightnow  ...              4\n",
              "3                             Comanchero  ...              4\n",
              "4  Born Under Punches (The Heat Goes On)  ...              4\n",
              "\n",
              "[5 rows x 16 columns]"
            ]
          },
          "metadata": {
            "tags": []
          },
          "execution_count": 16
        }
      ]
    }
  ]
}