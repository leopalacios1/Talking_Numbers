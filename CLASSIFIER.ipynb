{
 "cells": [
  {
   "cell_type": "code",
   "execution_count": 82,
   "id": "naval-commissioner",
   "metadata": {},
   "outputs": [],
   "source": [
    "import pandas as pd\n",
    "import matplotlib.pyplot as plt\n",
    "import seaborn as sns\n",
    "from sklearn.model_selection import train_test_split\n",
    "\n",
    "from sklearn.metrics import classification_report\n",
    "from sklearn.metrics import confusion_matrix\n",
    "\n",
    "from sklearn.neighbors import KNeighborsClassifier\n",
    "from sklearn.naive_bayes import GaussianNB\n",
    "from sklearn.discriminant_analysis import LinearDiscriminantAnalysis\n",
    "from sklearn.discriminant_analysis import QuadraticDiscriminantAnalysis\n",
    "from sklearn.tree import DecisionTreeClassifier\n",
    "from sklearn.model_selection import cross_val_score\n",
    "\n",
    "\n",
    "# FITTING AND EVALUATING\n",
    "\n",
    "# LOAD\n",
    "dataSet = load_iris()\n",
    "type(dataSet)\n",
    "\n",
    "# With dates\n",
    "ALL     = pd.read_csv(\"Data/Datasets/Dataset_ALL.csv\")\n",
    "\n",
    "# Without dates\n",
    "ALL     = pd.read_csv(\"Data/Datasets/Dataset_ALL_noDate.csv\")\n",
    "\n",
    "\n",
    "ALL_raw = ALL\n",
    "Classification = ALL_raw['Classification']\n",
    "\n",
    "ALL_raw = ALL_raw.drop(['Classification'],axis=1)\n",
    "ALL_raw = ALL_raw.drop(['Unnamed: 0'],axis=1)\n",
    "\n"
   ]
  },
  {
   "cell_type": "code",
   "execution_count": 107,
   "id": "complimentary-diversity",
   "metadata": {},
   "outputs": [],
   "source": [
    "X = ALL_raw\n",
    "y = Classification\n",
    "\n",
    "# split the data with 70% in each set\n",
    "Xtrain, Xtest, ytrain, ytest = train_test_split(X, y, random_state=0, train_size=0.7)\n",
    "\n",
    "# SELECT CLASSIFIER\n",
    "model_knn  = KNeighborsClassifier(n_neighbors=5)\n",
    "model_lda  = LinearDiscriminantAnalysis(n_components=None,priors=None, store_covariance=True)\n",
    "model_qda  = QuadraticDiscriminantAnalysis(priors=None,store_covariance=True)\n",
    "model_tree = DecisionTreeClassifier()\n",
    "model_gnb  = GaussianNB()\n",
    "\n",
    "\n",
    "# FIT the model on one set of data\n",
    "model_knn.fit(Xtrain, ytrain)\n",
    "model_lda.fit(Xtrain, ytrain)\n",
    "model_qda.fit(Xtrain, ytrain)\n",
    "model_tree.fit(Xtrain, ytrain)\n",
    "model_gnb.fit(Xtrain, ytrain)\n",
    "\n",
    "# TEST evaluate the model on the second set of data\n",
    "ytest_pred_knn  = model_knn.predict(Xtest)\n",
    "ytest_pred_lda  = model_lda.predict(Xtest)\n",
    "ytest_pred_qda  = model_qda.predict(Xtest)\n",
    "ytest_pred_tree = model_tree.predict(Xtest)\n",
    "ytest_pred_gnb  = model_gnb.predict(Xtest)\n",
    "\n",
    "# Classification Report\n",
    "print('KNN:')\n",
    "print(classification_report(ytest, ytest_pred_knn))\n",
    "print('LDA:')\n",
    "print(classification_report(ytest, ytest_pred_lda))\n",
    "print('QDA:')\n",
    "print(classification_report(ytest, ytest_pred_qda))\n",
    "print('TREE:')\n",
    "print(classification_report(ytest, ytest_pred_tree))\n",
    "print('GNB:')\n",
    "print(classification_report(ytest, ytest_pred_gnb))\n",
    "\n",
    "\n",
    "# Cross Validarion Scores\n",
    "scores_knn  = cross_val_score(model_knn,  Xtest, ytest, cv=5)\n",
    "scores_lda  = cross_val_score(model_lda,  Xtest, ytest, cv=5)\n",
    "scores_qda  = cross_val_score(model_qda,  Xtest, ytest, cv=5)\n",
    "scores_tree = cross_val_score(model_tree, Xtest, ytest, cv=5)\n",
    "scores_gnb  = cross_val_score(model_gnb,  Xtest, ytest, cv=5)\n",
    "\n",
    "\n",
    "# Cross Validation \n",
    "print(\"Accuracy KNN: %0.2f (+/- %0.2f)\" % (scores_knn.mean(), scores_knn.std() * 2))\n",
    "print(\"Accuracy LDA: %0.2f (+/- %0.2f)\" % (scores_lda.mean(), scores_lda.std() * 2))\n",
    "print(\"Accuracy QDA: %0.2f (+/- %0.2f)\" % (scores_qda.mean(), scores_qda.std() * 2))\n",
    "print(\"Accuracy TREE: %0.2f (+/- %0.2f)\" % (scores_tree.mean(), scores_tree.std() * 2))\n",
    "print(\"Accuracy GNB: %0.2f (+/- %0.2f)\" % (scores_gnb.mean(), scores_gnb.std() * 2))\n",
    "\n",
    "\n",
    "# Confusion Matrix Plot\n",
    "cm1 = confusion_matrix(ytest_pred_knn, ytest)\n",
    "cm2 = confusion_matrix(ytest_pred_lda, ytest)\n",
    "cm3 = confusion_matrix(ytest_pred_qda, ytest)\n",
    "cm4 = confusion_matrix(ytest_pred_tree, ytest)\n",
    "cm5 = confusion_matrix(ytest_pred_gnb, ytest)\n",
    "\n",
    "\n",
    "plt.figure(figsize=(6, 6))\n",
    "sns.heatmap(cm1,annot = True,linewidths=0.5,linecolor=\"green\",fmt = \".0f\")\n",
    "plt.xlabel(\"ytest_pred_knn\")\n",
    "plt.ylabel(\"y_true\")\n",
    "plt.title('KNN')\n",
    "\n",
    "\n",
    "plt.figure(figsize=(6, 6))\n",
    "sns.heatmap(cm2,annot = True,linewidths=0.5,linecolor=\"green\",fmt = \".0f\")\n",
    "plt.xlabel(\"ytest_pred_lda\")\n",
    "plt.ylabel(\"y_true\")\n",
    "plt.title('LDA')\n",
    "\n",
    "\n",
    "plt.figure(figsize=(6, 6))\n",
    "sns.heatmap(cm3,annot = True,linewidths=0.5,linecolor=\"green\",fmt = \".0f\")\n",
    "plt.xlabel(\"ytest_pred_qda\")\n",
    "plt.ylabel(\"y_true\")\n",
    "plt.title('QDA')\n",
    "plt.show()\n",
    "\n",
    "\n",
    "plt.figure(figsize=(6, 6))\n",
    "sns.heatmap(cm4,annot = True,linewidths=0.5,linecolor=\"green\",fmt = \".0f\")\n",
    "plt.xlabel(\"ytest_pred_tree\")\n",
    "plt.ylabel(\"y_true\")\n",
    "plt.title('TREE')\n",
    "plt.show()\n",
    "\n",
    "\n",
    "plt.figure(figsize=(6, 6))\n",
    "sns.heatmap(cm5,annot = True,linewidths=0.5,linecolor=\"green\",fmt = \".0f\")\n",
    "plt.xlabel(\"ytest_pred_tree\")\n",
    "plt.ylabel(\"y_true\")\n",
    "plt.title('GNB')\n",
    "plt.show()"
   ]
  },
  {
   "cell_type": "code",
   "execution_count": 109,
   "id": "scientific-johnson",
   "metadata": {},
   "outputs": [
    {
     "data": {
      "text/plain": [
       "array([1, 1, 1, ..., 0, 1, 0])"
      ]
     },
     "execution_count": 109,
     "metadata": {},
     "output_type": "execute_result"
    }
   ],
   "source": [
    "ytest.values\n",
    "ytest_pred_lda"
   ]
  },
  {
   "cell_type": "code",
   "execution_count": 107,
   "id": "touched-endorsement",
   "metadata": {},
   "outputs": [
    {
     "name": "stdout",
     "output_type": "stream",
     "text": [
      "KNN:\n",
      "              precision    recall  f1-score   support\n",
      "\n",
      "           0       0.74      0.73      0.74       898\n",
      "           1       0.86      0.86      0.86      1646\n",
      "\n",
      "    accuracy                           0.81      2544\n",
      "   macro avg       0.80      0.80      0.80      2544\n",
      "weighted avg       0.81      0.81      0.81      2544\n",
      "\n",
      "LDA:\n",
      "              precision    recall  f1-score   support\n",
      "\n",
      "           0       0.88      0.75      0.81       898\n",
      "           1       0.87      0.94      0.91      1646\n",
      "\n",
      "    accuracy                           0.87      2544\n",
      "   macro avg       0.87      0.85      0.86      2544\n",
      "weighted avg       0.87      0.87      0.87      2544\n",
      "\n",
      "QDA:\n",
      "              precision    recall  f1-score   support\n",
      "\n",
      "           0       0.82      0.83      0.83       898\n",
      "           1       0.91      0.90      0.90      1646\n",
      "\n",
      "    accuracy                           0.88      2544\n",
      "   macro avg       0.86      0.87      0.86      2544\n",
      "weighted avg       0.88      0.88      0.88      2544\n",
      "\n",
      "TREE:\n",
      "              precision    recall  f1-score   support\n",
      "\n",
      "           0       0.83      0.83      0.83       898\n",
      "           1       0.91      0.91      0.91      1646\n",
      "\n",
      "    accuracy                           0.88      2544\n",
      "   macro avg       0.87      0.87      0.87      2544\n",
      "weighted avg       0.88      0.88      0.88      2544\n",
      "\n",
      "GNB:\n",
      "              precision    recall  f1-score   support\n",
      "\n",
      "           0       0.70      0.86      0.77       898\n",
      "           1       0.91      0.80      0.85      1646\n",
      "\n",
      "    accuracy                           0.82      2544\n",
      "   macro avg       0.81      0.83      0.81      2544\n",
      "weighted avg       0.84      0.82      0.83      2544\n",
      "\n",
      "Accuracy KNN: 0.80 (+/- 0.04)\n",
      "Accuracy LDA: 0.87 (+/- 0.02)\n",
      "Accuracy QDA: 0.87 (+/- 0.03)\n",
      "Accuracy TREE: 0.86 (+/- 0.01)\n",
      "Accuracy GNB: 0.82 (+/- 0.02)\n"
     ]
    },
    {
     "data": {
      "image/png": "[encoded data removed]",
      "text/plain": [
       "<Figure size 432x432 with 2 Axes>"
      ]
     },
     "metadata": {
      "needs_background": "light"
     },
     "output_type": "display_data"
    },
    {
     "data": {
      "image/png": "[encoded data removed]",
      "text/plain": [
       "<Figure size 432x432 with 2 Axes>"
      ]
     },
     "metadata": {
      "needs_background": "light"
     },
     "output_type": "display_data"
    },
    {
     "data": {
      "image/png": "[encoded data removed]",
      "text/plain": [
       "<Figure size 432x432 with 2 Axes>"
      ]
     },
     "metadata": {
      "needs_background": "light"
     },
     "output_type": "display_data"
    },
    {
     "data": {
      "image/png": "[encoded data removed]",
      "text/plain": [
       "<Figure size 432x432 with 2 Axes>"
      ]
     },
     "metadata": {
      "needs_background": "light"
     },
     "output_type": "display_data"
    },
    {
     "data": {
      "image/png": "[encoded data removed]",
      "text/plain": [
       "<Figure size 432x432 with 2 Axes>"
      ]
     },
     "metadata": {
      "needs_background": "light"
     },
     "output_type": "display_data"
    },
    {
     "name": "stdout",
     "output_type": "stream",
     "text": [
      "[0.         0.25055679 1.        ]\n"
     ]
    },
    {
     "data": {
      "image/png": "[encoded data removed]",
      "text/plain": [
       "<Figure size 576x576 with 1 Axes>"
      ]
     },
     "metadata": {
      "needs_background": "light"
     },
     "output_type": "display_data"
    }
   ],
   "source": [
    "fpr, tpr, thresh = roc_curve(ytest.values, ytest_pred_lda)\n",
    "auc_score = roc_auc_score(ytest.values, ytest_pred_lda)\n",
    "\n",
    "print(fpr)\n",
    "plt.figure(figsize=[8,8])\n",
    "plt.plot(fpr, tpr,color='orange', label='LDA')\n",
    "plt.title('ROC curve')\n",
    "plt.xlabel('False Positive Rate')\n",
    "plt.ylabel('True Positive rate')\n",
    "plt.legend()\n",
    "plt.show();"
   ]
  },
  {
   "cell_type": "code",
   "execution_count": 97,
   "id": "concerned-merit",
   "metadata": {},
   "outputs": [
    {
     "data": {
      "text/plain": [
       "array([1, 1, 1, ..., 0, 1, 0])"
      ]
     },
     "execution_count": 97,
     "metadata": {},
     "output_type": "execute_result"
    }
   ],
   "source": [
    "ytest_pred_lda[:]"
   ]
  },
  {
   "cell_type": "code",
   "execution_count": 105,
   "id": "touched-abuse",
   "metadata": {},
   "outputs": [
    {
     "data": {
      "text/plain": [
       "array([1, 1, 1, ..., 0, 1, 0])"
      ]
     },
     "execution_count": 105,
     "metadata": {},
     "output_type": "execute_result"
    }
   ],
   "source": [
    "ytest.values"
   ]
  },
  {
   "cell_type": "code",
   "execution_count": 102,
   "id": "rubber-corner",
   "metadata": {},
   "outputs": [
    {
     "data": {
      "text/html": [
       "<div>\n",
       "<style scoped>\n",
       "    .dataframe tbody tr th:only-of-type {\n",
       "        vertical-align: middle;\n",
       "    }\n",
       "\n",
       "    .dataframe tbody tr th {\n",
       "        vertical-align: top;\n",
       "    }\n",
       "\n",
       "    .dataframe thead th {\n",
       "        text-align: right;\n",
       "    }\n",
       "</style>\n",
       "<table border=\"1\" class=\"dataframe\">\n",
       "  <thead>\n",
       "    <tr style=\"text-align: right;\">\n",
       "      <th></th>\n",
       "      <th>popularity</th>\n",
       "      <th>acousticness</th>\n",
       "      <th>danceability</th>\n",
       "      <th>energy</th>\n",
       "      <th>instrumentalness</th>\n",
       "      <th>liveness</th>\n",
       "      <th>loudness</th>\n",
       "      <th>speechiness</th>\n",
       "      <th>tempo</th>\n",
       "    </tr>\n",
       "  </thead>\n",
       "  <tbody>\n",
       "    <tr>\n",
       "      <th>0</th>\n",
       "      <td>35.0</td>\n",
       "      <td>0.9760</td>\n",
       "      <td>0.240</td>\n",
       "      <td>0.1570</td>\n",
       "      <td>0.924000</td>\n",
       "      <td>0.1080</td>\n",
       "      <td>-17.034</td>\n",
       "      <td>0.0382</td>\n",
       "      <td>68.828</td>\n",
       "    </tr>\n",
       "    <tr>\n",
       "      <th>1</th>\n",
       "      <td>0.0</td>\n",
       "      <td>0.8770</td>\n",
       "      <td>0.291</td>\n",
       "      <td>0.0939</td>\n",
       "      <td>0.779000</td>\n",
       "      <td>0.0799</td>\n",
       "      <td>-21.057</td>\n",
       "      <td>0.0342</td>\n",
       "      <td>102.084</td>\n",
       "    </tr>\n",
       "    <tr>\n",
       "      <th>2</th>\n",
       "      <td>63.0</td>\n",
       "      <td>0.9630</td>\n",
       "      <td>0.212</td>\n",
       "      <td>0.3010</td>\n",
       "      <td>0.003300</td>\n",
       "      <td>0.1300</td>\n",
       "      <td>-12.505</td>\n",
       "      <td>0.0384</td>\n",
       "      <td>84.025</td>\n",
       "    </tr>\n",
       "    <tr>\n",
       "      <th>3</th>\n",
       "      <td>56.0</td>\n",
       "      <td>0.9620</td>\n",
       "      <td>0.424</td>\n",
       "      <td>0.2140</td>\n",
       "      <td>0.000029</td>\n",
       "      <td>0.6810</td>\n",
       "      <td>-17.688</td>\n",
       "      <td>0.0763</td>\n",
       "      <td>113.211</td>\n",
       "    </tr>\n",
       "    <tr>\n",
       "      <th>4</th>\n",
       "      <td>59.0</td>\n",
       "      <td>0.9590</td>\n",
       "      <td>0.369</td>\n",
       "      <td>0.2100</td>\n",
       "      <td>0.000045</td>\n",
       "      <td>0.0905</td>\n",
       "      <td>-13.552</td>\n",
       "      <td>0.0437</td>\n",
       "      <td>131.714</td>\n",
       "    </tr>\n",
       "    <tr>\n",
       "      <th>...</th>\n",
       "      <td>...</td>\n",
       "      <td>...</td>\n",
       "      <td>...</td>\n",
       "      <td>...</td>\n",
       "      <td>...</td>\n",
       "      <td>...</td>\n",
       "      <td>...</td>\n",
       "      <td>...</td>\n",
       "      <td>...</td>\n",
       "    </tr>\n",
       "    <tr>\n",
       "      <th>8475</th>\n",
       "      <td>51.0</td>\n",
       "      <td>0.0966</td>\n",
       "      <td>0.839</td>\n",
       "      <td>0.4970</td>\n",
       "      <td>0.000000</td>\n",
       "      <td>0.0940</td>\n",
       "      <td>-6.088</td>\n",
       "      <td>0.3110</td>\n",
       "      <td>76.029</td>\n",
       "    </tr>\n",
       "    <tr>\n",
       "      <th>8476</th>\n",
       "      <td>56.0</td>\n",
       "      <td>0.0213</td>\n",
       "      <td>0.908</td>\n",
       "      <td>0.6960</td>\n",
       "      <td>0.000041</td>\n",
       "      <td>0.0747</td>\n",
       "      <td>-5.180</td>\n",
       "      <td>0.2640</td>\n",
       "      <td>102.032</td>\n",
       "    </tr>\n",
       "    <tr>\n",
       "      <th>8477</th>\n",
       "      <td>87.0</td>\n",
       "      <td>0.0136</td>\n",
       "      <td>0.781</td>\n",
       "      <td>0.5940</td>\n",
       "      <td>0.000000</td>\n",
       "      <td>0.1620</td>\n",
       "      <td>-6.959</td>\n",
       "      <td>0.0485</td>\n",
       "      <td>129.895</td>\n",
       "    </tr>\n",
       "    <tr>\n",
       "      <th>8478</th>\n",
       "      <td>72.0</td>\n",
       "      <td>0.2480</td>\n",
       "      <td>0.721</td>\n",
       "      <td>0.5650</td>\n",
       "      <td>0.000000</td>\n",
       "      <td>0.2840</td>\n",
       "      <td>-9.157</td>\n",
       "      <td>0.2800</td>\n",
       "      <td>93.800</td>\n",
       "    </tr>\n",
       "    <tr>\n",
       "      <th>8479</th>\n",
       "      <td>90.0</td>\n",
       "      <td>0.0012</td>\n",
       "      <td>0.868</td>\n",
       "      <td>0.7950</td>\n",
       "      <td>0.019300</td>\n",
       "      <td>0.0461</td>\n",
       "      <td>-6.044</td>\n",
       "      <td>0.2690</td>\n",
       "      <td>166.000</td>\n",
       "    </tr>\n",
       "  </tbody>\n",
       "</table>\n",
       "<p>8480 rows × 9 columns</p>\n",
       "</div>"
      ],
      "text/plain": [
       "      popularity  acousticness  danceability  energy  instrumentalness  \\\n",
       "0           35.0        0.9760         0.240  0.1570          0.924000   \n",
       "1            0.0        0.8770         0.291  0.0939          0.779000   \n",
       "2           63.0        0.9630         0.212  0.3010          0.003300   \n",
       "3           56.0        0.9620         0.424  0.2140          0.000029   \n",
       "4           59.0        0.9590         0.369  0.2100          0.000045   \n",
       "...          ...           ...           ...     ...               ...   \n",
       "8475        51.0        0.0966         0.839  0.4970          0.000000   \n",
       "8476        56.0        0.0213         0.908  0.6960          0.000041   \n",
       "8477        87.0        0.0136         0.781  0.5940          0.000000   \n",
       "8478        72.0        0.2480         0.721  0.5650          0.000000   \n",
       "8479        90.0        0.0012         0.868  0.7950          0.019300   \n",
       "\n",
       "      liveness  loudness  speechiness    tempo  \n",
       "0       0.1080   -17.034       0.0382   68.828  \n",
       "1       0.0799   -21.057       0.0342  102.084  \n",
       "2       0.1300   -12.505       0.0384   84.025  \n",
       "3       0.6810   -17.688       0.0763  113.211  \n",
       "4       0.0905   -13.552       0.0437  131.714  \n",
       "...        ...       ...          ...      ...  \n",
       "8475    0.0940    -6.088       0.3110   76.029  \n",
       "8476    0.0747    -5.180       0.2640  102.032  \n",
       "8477    0.1620    -6.959       0.0485  129.895  \n",
       "8478    0.2840    -9.157       0.2800   93.800  \n",
       "8479    0.0461    -6.044       0.2690  166.000  \n",
       "\n",
       "[8480 rows x 9 columns]"
      ]
     },
     "execution_count": 102,
     "metadata": {},
     "output_type": "execute_result"
    }
   ],
   "source": [
    "ALL_raw"
   ]
  },
  {
   "cell_type": "code",
   "execution_count": 57,
   "id": "african-congo",
   "metadata": {},
   "outputs": [
    {
     "data": {
      "text/plain": [
       "0       1\n",
       "1       1\n",
       "2       1\n",
       "3       1\n",
       "4       1\n",
       "       ..\n",
       "8475    0\n",
       "8476    0\n",
       "8477    0\n",
       "8478    0\n",
       "8479    0\n",
       "Name: Classification, Length: 8480, dtype: int64"
      ]
     },
     "execution_count": 57,
     "metadata": {},
     "output_type": "execute_result"
    }
   ],
   "source": [
    "Classification "
   ]
  },
  {
   "cell_type": "code",
   "execution_count": 83,
   "id": "finished-sullivan",
   "metadata": {},
   "outputs": [
    {
     "name": "stdout",
     "output_type": "stream",
     "text": [
      "Explained variance = 0.30847785905232733 0.14280370541284143 0.11531471860618016 0.1077506766700485 0.09912765174164136 0.08753366134116415 0.07079475727294578 0.05018613073907772 \n",
      "[ 30.84778591  45.12815645  56.65962831  67.43469597  77.34746115\n",
      "  86.10082728  93.18030301  98.19891608 100.        ]\n",
      "KNN:\n",
      "              precision    recall  f1-score   support\n",
      "\n",
      "           0       0.84      0.80      0.82       898\n",
      "           1       0.90      0.92      0.91      1646\n",
      "\n",
      "    accuracy                           0.88      2544\n",
      "   macro avg       0.87      0.86      0.86      2544\n",
      "weighted avg       0.88      0.88      0.88      2544\n",
      "\n",
      "LDA:\n",
      "              precision    recall  f1-score   support\n",
      "\n",
      "           0       0.85      0.70      0.77       898\n",
      "           1       0.85      0.93      0.89      1646\n",
      "\n",
      "    accuracy                           0.85      2544\n",
      "   macro avg       0.85      0.82      0.83      2544\n",
      "weighted avg       0.85      0.85      0.85      2544\n",
      "\n",
      "QDA:\n",
      "              precision    recall  f1-score   support\n",
      "\n",
      "           0       0.79      0.80      0.80       898\n",
      "           1       0.89      0.88      0.89      1646\n",
      "\n",
      "    accuracy                           0.85      2544\n",
      "   macro avg       0.84      0.84      0.84      2544\n",
      "weighted avg       0.85      0.85      0.85      2544\n",
      "\n",
      "TREE:\n",
      "              precision    recall  f1-score   support\n",
      "\n",
      "           0       0.80      0.79      0.80       898\n",
      "           1       0.89      0.89      0.89      1646\n",
      "\n",
      "    accuracy                           0.86      2544\n",
      "   macro avg       0.84      0.84      0.84      2544\n",
      "weighted avg       0.86      0.86      0.86      2544\n",
      "\n",
      "GNB:\n",
      "              precision    recall  f1-score   support\n",
      "\n",
      "           0       0.76      0.79      0.78       898\n",
      "           1       0.88      0.86      0.87      1646\n",
      "\n",
      "    accuracy                           0.84      2544\n",
      "   macro avg       0.82      0.83      0.82      2544\n",
      "weighted avg       0.84      0.84      0.84      2544\n",
      "\n",
      "Accuracy KNN: 0.87 (+/- 0.03)\n",
      "Accuracy LDA: 0.85 (+/- 0.04)\n",
      "Accuracy QDA: 0.85 (+/- 0.03)\n",
      "Accuracy TREE: 0.83 (+/- 0.02)\n",
      "Accuracy GNB: 0.84 (+/- 0.03)\n"
     ]
    },
    {
     "data": {
      "image/png": "[encoded data removed]",
      "text/plain": [
       "<Figure size 432x432 with 2 Axes>"
      ]
     },
     "metadata": {
      "needs_background": "light"
     },
     "output_type": "display_data"
    },
    {
     "data": {
      "image/png": "[encoded data removed]",
      "text/plain": [
       "<Figure size 432x432 with 2 Axes>"
      ]
     },
     "metadata": {
      "needs_background": "light"
     },
     "output_type": "display_data"
    },
    {
     "data": {
      "image/png": "[encoded data removed]",
      "text/plain": [
       "<Figure size 432x432 with 2 Axes>"
      ]
     },
     "metadata": {
      "needs_background": "light"
     },
     "output_type": "display_data"
    },
    {
     "data": {
      "image/png": "[encoded data removed]",
      "text/plain": [
       "<Figure size 432x432 with 2 Axes>"
      ]
     },
     "metadata": {
      "needs_background": "light"
     },
     "output_type": "display_data"
    },
    {
     "data": {
      "image/png": "[encoded data removed]",
      "text/plain": [
       "<Figure size 432x432 with 2 Axes>"
      ]
     },
     "metadata": {
      "needs_background": "light"
     },
     "output_type": "display_data"
    }
   ],
   "source": [
    "# PCA\n",
    "\n",
    "# IMPORT SECTION ___________________________________________________________\n",
    "\n",
    "import pandas as pd\n",
    "from sklearn.preprocessing import StandardScaler\n",
    "from sklearn import decomposition\n",
    "import numpy as np\n",
    "import seaborn as sns\n",
    "import matplotlib.pyplot as plt\n",
    "from sklearn.preprocessing import StandardScaler\n",
    "from sklearn import decomposition\n",
    "\n",
    "\n",
    "from sklearn.datasets import load_iris\n",
    "from sklearn.model_selection import train_test_split\n",
    "\n",
    "from sklearn.metrics import classification_report\n",
    "from sklearn.metrics import confusion_matrix\n",
    "\n",
    "from sklearn.neighbors import KNeighborsClassifier\n",
    "from sklearn.naive_bayes import GaussianNB\n",
    "from sklearn.discriminant_analysis import LinearDiscriminantAnalysis\n",
    "from sklearn.discriminant_analysis import QuadraticDiscriminantAnalysis\n",
    "from sklearn.tree import DecisionTreeClassifier\n",
    "from sklearn.model_selection import cross_val_score\n",
    "from sklearn.metrics import roc_curve\n",
    "from sklearn.metrics import roc_auc_score\n",
    "\n",
    "Dataset = ALL_raw\n",
    "\n",
    "DS = StandardScaler().fit_transform(Dataset)\n",
    "pca = decomposition.PCA(n_components=9).fit(DS)\n",
    "\n",
    "print('Explained variance = {} {} {} {} {} {} {} {} '.format(*pca.explained_variance_ratio_))\n",
    "print(100*pca.explained_variance_ratio_.cumsum())\n",
    "\n",
    "Xproj = pca.transform(DS) \n",
    "Xreduced = Xproj[:,0:8] \n",
    "Xreduced.shape\n",
    "\n",
    "dfpca = pd.DataFrame(Xproj[:,0:8], columns=['PCA1', 'PCA2','PCA3', 'PCA4', 'PCA5','PCA6',  'PCA7','PCA8'])\n",
    "\n",
    "X = Xreduced\n",
    "y = Classification\n",
    "\n",
    "# split the data with 70% in each set\n",
    "Xtrain, Xtest, ytrain, ytest = train_test_split(X, y, random_state=0, train_size=0.7)\n",
    "\n",
    "# SELECT CLASSIFIER\n",
    "model_knn  = KNeighborsClassifier(n_neighbors=5)\n",
    "model_lda  = LinearDiscriminantAnalysis(n_components=None,priors=None, store_covariance=True)\n",
    "model_qda  = QuadraticDiscriminantAnalysis(priors=None,store_covariance=True)\n",
    "model_tree = DecisionTreeClassifier()\n",
    "model_gnb  = GaussianNB()\n",
    "\n",
    "\n",
    "# FIT the model on one set of data\n",
    "model_knn.fit(Xtrain, ytrain)\n",
    "model_lda.fit(Xtrain, ytrain)\n",
    "model_qda.fit(Xtrain, ytrain)\n",
    "model_tree.fit(Xtrain, ytrain)\n",
    "model_gnb.fit(Xtrain, ytrain)\n",
    "\n",
    "# TEST evaluate the model on the second set of data\n",
    "ytest_pred_knn  = model_knn.predict(Xtest)\n",
    "ytest_pred_lda  = model_lda.predict(Xtest)\n",
    "ytest_pred_qda  = model_qda.predict(Xtest)\n",
    "ytest_pred_tree = model_tree.predict(Xtest)\n",
    "ytest_pred_gnb  = model_gnb.predict(Xtest)\n",
    "\n",
    "# Classification Report\n",
    "print('KNN:')\n",
    "print(classification_report(ytest, ytest_pred_knn))\n",
    "print('LDA:')\n",
    "print(classification_report(ytest, ytest_pred_lda))\n",
    "print('QDA:')\n",
    "print(classification_report(ytest, ytest_pred_qda))\n",
    "print('TREE:')\n",
    "print(classification_report(ytest, ytest_pred_tree))\n",
    "print('GNB:')\n",
    "print(classification_report(ytest, ytest_pred_gnb))\n",
    "\n",
    "\n",
    "# Cross Validarion Scores\n",
    "scores_knn  = cross_val_score(model_knn,  Xtest, ytest, cv=5)\n",
    "scores_lda  = cross_val_score(model_lda,  Xtest, ytest, cv=5)\n",
    "scores_qda  = cross_val_score(model_qda,  Xtest, ytest, cv=5)\n",
    "scores_tree = cross_val_score(model_tree, Xtest, ytest, cv=5)\n",
    "scores_gnb  = cross_val_score(model_gnb,  Xtest, ytest, cv=5)\n",
    "\n",
    "\n",
    "# Cross Validation \n",
    "print(\"Accuracy KNN: %0.2f (+/- %0.2f)\" % (scores_knn.mean(), scores_knn.std() * 2))\n",
    "print(\"Accuracy LDA: %0.2f (+/- %0.2f)\" % (scores_lda.mean(), scores_lda.std() * 2))\n",
    "print(\"Accuracy QDA: %0.2f (+/- %0.2f)\" % (scores_qda.mean(), scores_qda.std() * 2))\n",
    "print(\"Accuracy TREE: %0.2f (+/- %0.2f)\" % (scores_tree.mean(), scores_tree.std() * 2))\n",
    "print(\"Accuracy GNB: %0.2f (+/- %0.2f)\" % (scores_gnb.mean(), scores_gnb.std() * 2))\n",
    "\n",
    "\n",
    "# Confusion Matrix Plot\n",
    "cm1 = confusion_matrix(ytest_pred_knn, ytest)\n",
    "cm2 = confusion_matrix(ytest_pred_lda, ytest)\n",
    "cm3 = confusion_matrix(ytest_pred_qda, ytest)\n",
    "cm4 = confusion_matrix(ytest_pred_tree, ytest)\n",
    "cm5 = confusion_matrix(ytest_pred_gnb, ytest)\n",
    "\n",
    "\n",
    "plt.figure(figsize=(6, 6))\n",
    "sns.heatmap(cm1,annot = True,linewidths=0.5,linecolor=\"green\",fmt = \".0f\")\n",
    "plt.xlabel(\"ytest_pred_knn\")\n",
    "plt.ylabel(\"y_true\")\n",
    "plt.title('KNN')\n",
    "\n",
    "\n",
    "plt.figure(figsize=(6, 6))\n",
    "sns.heatmap(cm2,annot = True,linewidths=0.5,linecolor=\"green\",fmt = \".0f\")\n",
    "plt.xlabel(\"ytest_pred_lda\")\n",
    "plt.ylabel(\"y_true\")\n",
    "plt.title('LDA')\n",
    "\n",
    "\n",
    "plt.figure(figsize=(6, 6))\n",
    "sns.heatmap(cm3,annot = True,linewidths=0.5,linecolor=\"green\",fmt = \".0f\")\n",
    "plt.xlabel(\"ytest_pred_qda\")\n",
    "plt.ylabel(\"y_true\")\n",
    "plt.title('QDA')\n",
    "plt.show()\n",
    "\n",
    "\n",
    "plt.figure(figsize=(6, 6))\n",
    "sns.heatmap(cm4,annot = True,linewidths=0.5,linecolor=\"green\",fmt = \".0f\")\n",
    "plt.xlabel(\"ytest_pred_tree\")\n",
    "plt.ylabel(\"y_true\")\n",
    "plt.title('TREE')\n",
    "plt.show()\n",
    "\n",
    "\n",
    "plt.figure(figsize=(6, 6))\n",
    "sns.heatmap(cm5,annot = True,linewidths=0.5,linecolor=\"green\",fmt = \".0f\")\n",
    "plt.xlabel(\"ytest_pred_tree\")\n",
    "plt.ylabel(\"y_true\")\n",
    "plt.title('GNB')\n",
    "plt.show()"
   ]
  },
  {
   "cell_type": "code",
   "execution_count": null,
   "id": "large-massachusetts",
   "metadata": {},
   "outputs": [],
   "source": []
  }
 ],
 "metadata": {
  "kernelspec": {
   "display_name": "Python 3",
   "language": "python",
   "name": "python3"
  },
  "language_info": {
   "codemirror_mode": {
    "name": "ipython",
    "version": 3
   },
   "file_extension": ".py",
   "mimetype": "text/x-python",
   "name": "python",
   "nbconvert_exporter": "python",
   "pygments_lexer": "ipython3",
   "version": "3.7.6"
  }
 },
 "nbformat": 4,
 "nbformat_minor": 5
}
