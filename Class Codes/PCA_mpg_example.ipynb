{
  "nbformat": 4,
  "nbformat_minor": 0,
  "metadata": {
    "colab": {
      "name": "PCA_mpg_example.ipynb",
      "provenance": [],
      "authorship_tag": "ABX9TyP8MYRxW5rNdaF1XeVYj0kE",
      "include_colab_link": true
    },
    "kernelspec": {
      "name": "python3",
      "display_name": "Python 3"
    }
  },
  "cells": [
    {
      "cell_type": "markdown",
      "metadata": {
        "id": "view-in-github",
        "colab_type": "text"
      },
      "source": [
        "<a href=\"https://colab.research.google.com/github/raulbenitez/DAPR/blob/master/PCA_mpg_example.ipynb\" target=\"_parent\"><img src=\"https://colab.research.google.com/assets/colab-badge.svg\" alt=\"Open In Colab\"/></a>"
      ]
    },
    {
      "cell_type": "code",
      "metadata": {
        "id": "2nmDZfaM4Axt",
        "outputId": "7d9b3f4a-56e1-40af-9720-f3445dba3e8a",
        "colab": {
          "base_uri": "https://localhost:8080/"
        }
      },
      "source": [
        "import seaborn as sns\n",
        "\n",
        "sns.set(style=\"ticks\", color_codes=True)\n",
        "mpg = sns.load_dataset(\"mpg\")\n",
        "mpg1 = mpg.drop(['origin', 'name','horsepower'], axis=1)\n",
        "X = mpg1.values #extracting numpy array from pandas dataframe\n",
        "\n",
        "X.shape"
      ],
      "execution_count": 1,
      "outputs": [
        {
          "output_type": "execute_result",
          "data": {
            "text/plain": [
              "(398, 6)"
            ]
          },
          "metadata": {
            "tags": []
          },
          "execution_count": 1
        }
      ]
    },
    {
      "cell_type": "markdown",
      "metadata": {
        "id": "nKv2r9pg4RsP"
      },
      "source": [
        "PCA of the data: Tell me how many PCA components are needed to explain 90% of the data variability\n",
        "\n",
        "1. Standardize data\n",
        "2. Apply PCA \n",
        "3. Check eigenvalues for explained variability\n",
        "4. Project data to reduced dimensionality PCA space\n"
      ]
    },
    {
      "cell_type": "code",
      "metadata": {
        "id": "njy7reeP4N_M",
        "outputId": "79eebb45-1a61-4e75-f884-4c0d133ce8f1",
        "colab": {
          "base_uri": "https://localhost:8080/"
        }
      },
      "source": [
        "from sklearn.preprocessing import StandardScaler\n",
        "from sklearn import decomposition\n",
        "\n",
        "XS = StandardScaler().fit_transform(X)\n",
        "pca = decomposition.PCA(n_components=6).fit(XS)\n",
        "\n",
        "print('Explained variance = {} {} {} {}'.format(*pca.explained_variance_ratio_))"
      ],
      "execution_count": 4,
      "outputs": [
        {
          "output_type": "stream",
          "text": [
            "Explained variance = 0.6892378125074196 0.14314422399043283 0.11761219696867001 0.031153758280813883\n"
          ],
          "name": "stdout"
        }
      ]
    },
    {
      "cell_type": "code",
      "metadata": {
        "id": "ihkJNpsY5tor",
        "outputId": "a9124d2d-1622-47bc-d87b-42a3f65fb75a",
        "colab": {
          "base_uri": "https://localhost:8080/"
        }
      },
      "source": [
        "100*pca.explained_variance_ratio_.cumsum()"
      ],
      "execution_count": 5,
      "outputs": [
        {
          "output_type": "execute_result",
          "data": {
            "text/plain": [
              "array([ 68.92378125,  83.23820365,  94.99942335,  98.11479917,\n",
              "        99.41055943, 100.        ])"
            ]
          },
          "metadata": {
            "tags": []
          },
          "execution_count": 5
        }
      ]
    },
    {
      "cell_type": "code",
      "metadata": {
        "id": "YgORmhXi56Oh",
        "outputId": "e4b7c671-c79f-4a3e-bd7e-a85f9f43dcf7",
        "colab": {
          "base_uri": "https://localhost:8080/"
        }
      },
      "source": [
        "Xproj = pca.transform(XS) #project data to PCA space\n",
        "Xreduced = Xproj[:,0:3] #keep only 3 first PC components\n",
        "Xreduced.shape\n"
      ],
      "execution_count": 7,
      "outputs": [
        {
          "output_type": "execute_result",
          "data": {
            "text/plain": [
              "(398, 3)"
            ]
          },
          "metadata": {
            "tags": []
          },
          "execution_count": 7
        }
      ]
    },
    {
      "cell_type": "markdown",
      "metadata": {
        "id": "EHE_UZJt6onM"
      },
      "source": [
        "Apply a kmeans algorithm to cluster data in the PCA reduced dimensionality space (3D)"
      ]
    },
    {
      "cell_type": "code",
      "metadata": {
        "id": "oYVEJ-SD6NLy",
        "outputId": "ba3804ed-02fd-44cd-c8c8-7f37a50de70d",
        "colab": {
          "base_uri": "https://localhost:8080/"
        }
      },
      "source": [
        "XS.shape"
      ],
      "execution_count": 8,
      "outputs": [
        {
          "output_type": "execute_result",
          "data": {
            "text/plain": [
              "(398, 6)"
            ]
          },
          "metadata": {
            "tags": []
          },
          "execution_count": 8
        }
      ]
    },
    {
      "cell_type": "code",
      "metadata": {
        "id": "dD3yOCrl7P3g"
      },
      "source": [
        ""
      ],
      "execution_count": null,
      "outputs": []
    }
  ]
}