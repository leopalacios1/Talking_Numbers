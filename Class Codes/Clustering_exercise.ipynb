{
  "nbformat": 4,
  "nbformat_minor": 0,
  "metadata": {
    "colab": {
      "name": "Clustering_exercise.ipynb",
      "provenance": []
    },
    "kernelspec": {
      "name": "python3",
      "display_name": "Python 3"
    }
  },
  "cells": [
    {
      "cell_type": "markdown",
      "metadata": {
        "id": "GBEpUzwqhBkw"
      },
      "source": [
        "# Exercise: Clustering methods with real data\n",
        "\n",
        "In this exercise, the aim is to apply k-means, hierarchical clustering and GMM clustering to different multivariate datasets. \n",
        "## A. Auto MPG dataset:\n",
        "\n",
        "A dataset of cars in which the features are the following: \n",
        "\n",
        "1. mpg: continuous\n",
        "2. cylinders: multi-valued discrete\n",
        "3. displacement: continuous\n",
        "4. horsepower: continuous\n",
        "5. weight: continuous\n",
        "6. acceleration: continuous\n",
        "7. model year: multi-valued discrete\n",
        "8. origin: multi-valued discrete (Japan, USA, Europe)\n",
        "9. car name: string (unique for each instance)\n",
        "\n",
        "You can load the data from different sources:\n",
        "\n",
        "- UCI repository: https://archive.ics.uci.edu/ml/datasets/auto+mpg\n",
        "- Kaggle datasets: https://www.kaggle.com/uciml/autompg-dataset\n",
        "- Built-in data from seaborn libraries: https://seaborn.pydata.org/generated/seaborn.load_dataset.html\n",
        "\n",
        "**NOTE**: It is important to remove the non-numerical variables before applying the different clustering methods. It is also important to remove the observations that contain a NaN. Here is an example of how to proceed:\n"
      ]
    },
    {
      "cell_type": "code",
      "metadata": {
        "colab": {
          "base_uri": "https://localhost:8080/",
          "height": 0
        },
        "id": "LCb8zEbyhWko",
        "outputId": "4972dc20-860e-4a84-e769-0f475d277f76"
      },
      "source": [
        "import pandas as pd \n",
        "import seaborn as sns \n",
        "mpg = sns.load_dataset(\"mpg\")\n",
        "mpg_num = mpg.select_dtypes(include='number') # keep only numeric variables \n",
        "mpg_num_nonans = mpg_num.dropna() # remove observations with NaNs\n",
        "\n",
        "print('Original data = {}'.format(mpg.shape))\n",
        "print('Numerical variables = {}'.format(mpg_num.shape))\n",
        "print('dataset without NaNs = {}'.format(mpg_num_nonans.shape))"
      ],
      "execution_count": 1,
      "outputs": [
        {
          "output_type": "stream",
          "text": [
            "Original data = (398, 9)\n",
            "Numerical variables = (398, 7)\n",
            "dataset without NaNs = (392, 7)\n"
          ],
          "name": "stdout"
        }
      ]
    },
    {
      "cell_type": "markdown",
      "metadata": {
        "id": "7ntNUEP8jCrT"
      },
      "source": [
        "## B. The Iris dataset: \n",
        "\n",
        "No doubt, the most famous dataset in machine learning. It contains observations of flowers with the following attributes\n",
        "\n",
        "1. sepal length in cm\n",
        "2. sepal width in cm\n",
        "3. petal length in cm\n",
        "4. petal width in cm\n",
        "\n",
        "In addition, the database includes a class label indicating the species among three different classes:\n",
        "\n",
        "5. class:\n",
        "-- Iris Setosa\n",
        "-- Iris Versicolour\n",
        "-- Iris Virginica\n",
        "\n",
        "**NOTE**: Since clustering methods are unsupervised, you should discard the class label when applying clustering algorithms. \n",
        "\n",
        "You can get the data from multiple sources:\n",
        "\n",
        "- UCI dataset: https://archive.ics.uci.edu/ml/datasets/iris\n",
        "- Kaggle: https://www.kaggle.com/arshid/iris-flower-dataset\n",
        "- Built-in datasets from seaborn: https://seaborn.pydata.org/generated/seaborn.load_dataset.html\n",
        "- Built-in data from sklearn: https://scikit-learn.org/stable/modules/generated/sklearn.datasets.load_iris.html#sklearn.datasets.load_iris\n"
      ]
    },
    {
      "cell_type": "markdown",
      "metadata": {
        "id": "mawSNLCRkAlN"
      },
      "source": [
        "## C. Choose it yourself:\n",
        "\n",
        "You can choose any dataset of your interest from Kaggle or UCI dataset repository. Make sure to fulfill the following requirements:\n",
        "\n",
        "- Keep only numerical features and avoid categorical numerical with few discrete values\n",
        "- Remove observations with missing values or NaNs\n",
        "- Make sure you take out the class label before you cluster data \n"
      ]
    }
  ]
}