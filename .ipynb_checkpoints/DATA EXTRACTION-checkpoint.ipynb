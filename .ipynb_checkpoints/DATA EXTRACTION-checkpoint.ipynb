{
 "cells": [
  {
   "cell_type": "code",
   "execution_count": 8,
   "id": "inappropriate-mailman",
   "metadata": {},
   "outputs": [],
   "source": [
    "import spotipy\n",
    "from spotipy.oauth2 import SpotifyClientCredentials\n",
    "import pandas as pd\n",
    "import time \n",
    "\n",
    "# DEFINE LOGIN CREDENTIALS\n",
    "userID         = '1124570809'\n",
    "client_id      = '9eb4c6ef069845e4bde31c6581daac26'\n",
    "client_secret  = '9995ec38d7294435acfb7c8fe81b99ec'\n",
    "\n",
    "client_credentials_manager = SpotifyClientCredentials(client_id, client_secret)\n",
    "sp = spotipy.Spotify(client_credentials_manager=client_credentials_manager)\n",
    "\n",
    "# LOAD DATASETS IDS FROM CSV FILE\n",
    "IDs_df = pd.read_csv(\"Data/DatasetsIDs.csv\",\";\")"
   ]
  },
  {
   "cell_type": "code",
   "execution_count": 7,
   "id": "occupied-forty",
   "metadata": {},
   "outputs": [],
   "source": [
    "# Load Playlists and Save into Data Folder\n",
    "\n",
    "def getTrackIDs(username,playlist_id):\n",
    "    results = sp.user_playlist_tracks(username,playlist_id)\n",
    "    tracks = results['items']\n",
    "    while results['next']:\n",
    "        results = sp.next(results)\n",
    "        tracks.extend(results['items'])\n",
    "    IDs = []\n",
    "    for i in range(len(tracks)):\n",
    "        IDs.append(tracks[i][\"track\"]['id']) \n",
    "    return IDs\n",
    "\n",
    "\n",
    "# Function for retrieving track ids\n",
    "def getTrackIDs_OLD(user, playlist_id):\n",
    "    ids = []\n",
    "    playlist = sp.user_playlist(user, playlist_id)\n",
    "    for item in playlist['tracks']['items']:\n",
    "        track = item['track']\n",
    "        ids.append(track['id'])\n",
    "    return ids\n",
    "\n",
    "# Function that extracts track features\n",
    "def getTrackFeatures(id):\n",
    "    try:\n",
    "      meta = sp.track(id)\n",
    "      features = sp.audio_features(id)\n",
    "\n",
    "      # meta\n",
    "      name = meta['name']\n",
    "      album = meta['album']['name']\n",
    "      artist = meta['album']['artists'][0]['name']\n",
    "      release_date = meta['album']['release_date']\n",
    "      length = meta['duration_ms']\n",
    "      popularity = meta['popularity']\n",
    "\n",
    "      # features\n",
    "      acousticness = features[0]['acousticness']\n",
    "      danceability = features[0]['danceability']\n",
    "      energy = features[0]['energy']\n",
    "      instrumentalness = features[0]['instrumentalness']\n",
    "      liveness = features[0]['liveness']\n",
    "      loudness = features[0]['loudness']\n",
    "      speechiness = features[0]['speechiness']\n",
    "      tempo = features[0]['tempo']\n",
    "      time_signature = features[0]['time_signature']\n",
    "\n",
    "      track = [name, album, artist, release_date, length, popularity, acousticness, danceability, energy, instrumentalness, liveness, loudness, speechiness, tempo, time_signature]\n",
    "      return track\n",
    "    except:\n",
    "      return []\n",
    "\n",
    "# Loop through Datasets\n",
    "for index, row in IDs_df.iterrows():\n",
    "        ID   = row['ID']\n",
    "        Name = row['Dataset']\n",
    "        ids = getTrackIDs(userID, ID)\n",
    "\n",
    "        # loop over track ids \n",
    "        tracks = []\n",
    "        for i in range(len(ids)):\n",
    "          track = getTrackFeatures(ids[i])\n",
    "          if len(track) > 0:\n",
    "              tracks.append(track)\n",
    "\n",
    "        # create dataset\n",
    "        df = pd.DataFrame(tracks, columns = ['name', 'album', 'artist', 'release_date', 'length', 'popularity', 'acousticness', 'danceability', 'energy', 'instrumentalness', 'liveness', 'loudness', 'speechiness', 'tempo', 'time_signature'])\n",
    "\n",
    "        df.to_csv(\"Data/Datasets/Dataset\" + str(Name) + \".csv\", sep = ',')\n",
    "\n",
    " "
   ]
  },
  {
   "cell_type": "code",
   "execution_count": 19,
   "id": "affecting-comparative",
   "metadata": {},
   "outputs": [
    {
     "name": "stdout",
     "output_type": "stream",
     "text": [
      "<bound method Spotify.current_user_top_tracks of <spotipy.client.Spotify object at 0x7fc6c00ea390>>\n"
     ]
    }
   ],
   "source": [
    "# Current Tracks\n",
    "currentTopSongs = sp.current_user_top_tracks\n",
    "currentTopSongs"
   ]
  },
  {
   "cell_type": "code",
   "execution_count": null,
   "id": "nuclear-stadium",
   "metadata": {},
   "outputs": [],
   "source": []
  },
  {
   "cell_type": "code",
   "execution_count": null,
   "id": "stunning-title",
   "metadata": {},
   "outputs": [],
   "source": []
  },
  {
   "cell_type": "code",
   "execution_count": null,
   "id": "advanced-seven",
   "metadata": {},
   "outputs": [],
   "source": []
  },
  {
   "cell_type": "code",
   "execution_count": null,
   "id": "heard-potato",
   "metadata": {},
   "outputs": [],
   "source": [
    "\n",
    "    "
   ]
  },
  {
   "cell_type": "code",
   "execution_count": null,
   "id": "partial-symbol",
   "metadata": {},
   "outputs": [],
   "source": []
  },
  {
   "cell_type": "code",
   "execution_count": null,
   "id": "frozen-parcel",
   "metadata": {},
   "outputs": [],
   "source": []
  },
  {
   "cell_type": "code",
   "execution_count": null,
   "id": "liquid-lemon",
   "metadata": {},
   "outputs": [],
   "source": []
  },
  {
   "cell_type": "code",
   "execution_count": null,
   "id": "banned-parallel",
   "metadata": {},
   "outputs": [],
   "source": []
  },
  {
   "cell_type": "code",
   "execution_count": null,
   "id": "super-light",
   "metadata": {},
   "outputs": [],
   "source": []
  },
  {
   "cell_type": "code",
   "execution_count": null,
   "id": "amended-singapore",
   "metadata": {},
   "outputs": [],
   "source": []
  },
  {
   "cell_type": "code",
   "execution_count": null,
   "id": "particular-format",
   "metadata": {},
   "outputs": [],
   "source": []
  },
  {
   "cell_type": "code",
   "execution_count": null,
   "id": "religious-dictionary",
   "metadata": {},
   "outputs": [],
   "source": []
  },
  {
   "cell_type": "code",
   "execution_count": null,
   "id": "appointed-registration",
   "metadata": {},
   "outputs": [],
   "source": []
  },
  {
   "cell_type": "code",
   "execution_count": null,
   "id": "biblical-anthony",
   "metadata": {},
   "outputs": [],
   "source": []
  },
  {
   "cell_type": "code",
   "execution_count": null,
   "id": "senior-proposition",
   "metadata": {},
   "outputs": [],
   "source": []
  },
  {
   "cell_type": "code",
   "execution_count": null,
   "id": "positive-transmission",
   "metadata": {},
   "outputs": [],
   "source": []
  },
  {
   "cell_type": "code",
   "execution_count": null,
   "id": "terminal-death",
   "metadata": {},
   "outputs": [],
   "source": []
  },
  {
   "cell_type": "code",
   "execution_count": null,
   "id": "hearing-sally",
   "metadata": {},
   "outputs": [],
   "source": []
  },
  {
   "cell_type": "code",
   "execution_count": null,
   "id": "angry-anthropology",
   "metadata": {},
   "outputs": [],
   "source": []
  }
 ],
 "metadata": {
  "kernelspec": {
   "display_name": "Python 3",
   "language": "python",
   "name": "python3"
  },
  "language_info": {
   "codemirror_mode": {
    "name": "ipython",
    "version": 3
   },
   "file_extension": ".py",
   "mimetype": "text/x-python",
   "name": "python",
   "nbconvert_exporter": "python",
   "pygments_lexer": "ipython3",
   "version": "3.7.6"
  }
 },
 "nbformat": 4,
 "nbformat_minor": 5
}
